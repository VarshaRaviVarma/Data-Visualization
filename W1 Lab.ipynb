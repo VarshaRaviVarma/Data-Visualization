{
 "cells": [
  {
   "cell_type": "markdown",
   "id": "5647a023",
   "metadata": {},
   "source": [
    "# W1 Lab assignment"
   ]
  },
  {
   "cell_type": "markdown",
   "id": "5cbaf4db",
   "metadata": {},
   "source": [
    "If you want to use a cloud environment,\n",
    "\n",
    "* Try out the cloud environments listed above. (Google colaboratory is recommended)\n",
    "* Try installing/importing the following packages.\n",
    "* Create a cell that prints \"Hello world!\".\n",
    "* Submit the notebook."
   ]
  },
  {
   "cell_type": "code",
   "execution_count": 1,
   "id": "d95c4393",
   "metadata": {},
   "outputs": [],
   "source": [
    "import numpy\n",
    "import scipy\n",
    "import matplotlib\n",
    "import seaborn\n",
    "import pandas\n",
    "import altair\n",
    "import vega_datasets\n",
    "import sklearn\n",
    "import bokeh\n",
    "import datashader\n",
    "import holoviews\n",
    "import wordcloud\n",
    "import spacy"
   ]
  },
  {
   "cell_type": "code",
   "execution_count": 2,
   "id": "a22be041",
   "metadata": {},
   "outputs": [
    {
     "name": "stdout",
     "output_type": "stream",
     "text": [
      "Hello world\n"
     ]
    }
   ],
   "source": [
    "print (\"Hello world\")"
   ]
  }
 ],
 "metadata": {
  "kernelspec": {
   "display_name": "Python 3 (ipykernel)",
   "language": "python",
   "name": "python3"
  },
  "language_info": {
   "codemirror_mode": {
    "name": "ipython",
    "version": 3
   },
   "file_extension": ".py",
   "mimetype": "text/x-python",
   "name": "python",
   "nbconvert_exporter": "python",
   "pygments_lexer": "ipython3",
   "version": "3.9.12"
  }
 },
 "nbformat": 4,
 "nbformat_minor": 5
}
